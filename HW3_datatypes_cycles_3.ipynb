{
 "cells": [
  {
   "cell_type": "markdown",
   "id": "37c7b36d-1e10-4b79-baea-f7a75de62e0f",
   "metadata": {},
   "source": [
    "## Домашнее задание к лекции \"Введение в типы данных и циклы. Часть 2\"\n"
   ]
  },
  {
   "cell_type": "markdown",
   "id": "95a20d35-8027-44af-b5e8-50f5adefede2",
   "metadata": {},
   "source": [
    "Задание 1\n",
    "Дана переменная, в которой хранится словарь, содержащий гео-метки для каждого пользователя \n",
    "(пример структуры данных приведен ниже). Вам необходимо написать программу, которая выведет \n",
    "на экран множество уникальных гео-меток всех пользователей.\n",
    "\n",
    "Пример работы программы:\n",
    "\n",
    "ids = {'user1': [213, 213, 213, 15, 213], \n",
    "       'user2': [54, 54, 119, 119, 119], \n",
    "       'user3': [213, 98, 98, 35]}\n",
    "Результат: {98, 35, 15, 213, 54, 119}\n",
    "\n"
   ]
  },
  {
   "cell_type": "code",
   "execution_count": 27,
   "id": "fbb53479-8ad3-47a4-9797-ad66679ceb7d",
   "metadata": {},
   "outputs": [
    {
     "name": "stdout",
     "output_type": "stream",
     "text": [
      "Результат: {98, 35, 15, 213, 54, 119}\n"
     ]
    }
   ],
   "source": [
    "ids = {'user1': [213, 213, 213, 15, 213], \n",
    "       'user2': [54, 54, 119, 119, 119], \n",
    "       'user3': [213, 98, 98, 35]}\n",
    "result = []\n",
    "for value in ids.values():\n",
    "    result += value\n",
    "print(f'Результат: {set(result)}')\n"
   ]
  },
  {
   "cell_type": "markdown",
   "id": "a8f09cfe-3e8b-4559-b11c-bee6797720e0",
   "metadata": {},
   "source": [
    "Задание 2\n",
    "Дана переменная, в которой хранится список поисковых запросов пользователя (пример структуры данных приведен ниже). \n",
    "Вам необходимо написать программу, которая выведет на экран распределение количества слов в запросах в требуемом виде.\n",
    "\n",
    "Пример работы программы:\n",
    "\n",
    "queries = [\n",
    "    'смотреть сериалы онлайн',\n",
    "    'новости спорта',\n",
    "    'афиша кино',\n",
    "    'курс доллара',\n",
    "    'сериалы этим летом',\n",
    "    'курс по питону',\n",
    "    'сериалы про спорт',\n",
    "]\n",
    "Результат:\n",
    "\n",
    "Поисковых запросов, содержащих 2 слов(а): 42.86%\n",
    "Поисковых запросов, содержащих 3 слов(а): 57.14%\n"
   ]
  },
  {
   "cell_type": "code",
   "execution_count": 4,
   "id": "66178c9f-c61e-4488-9a57-90f38050a804",
   "metadata": {},
   "outputs": [
    {
     "name": "stdout",
     "output_type": "stream",
     "text": [
      "Результат:\n",
      "Поисковых запросов, содержащих 3 слов(а) - 4, что составляет 50.0 % от общего кол-ва слов\n",
      "Поисковых запросов, содержащих 2 слов(а) - 3, что составляет 37.5 % от общего кол-ва слов\n",
      "Поисковых запросов, содержащих 5 слов(а) - 1, что составляет 12.5 % от общего кол-ва слов\n"
     ]
    }
   ],
   "source": [
    "queries = [\n",
    "    'смотреть сериалы онлайн',\n",
    "    'новости спорта',\n",
    "    'афиша кино',\n",
    "    'курс доллара',\n",
    "    'сериалы этим летом',\n",
    "    'курс по питону',\n",
    "    'сериалы про спорт',\n",
    "    'Как стать профи в Python'\n",
    "]\n",
    "print('Результат:')\n",
    "i = 0\n",
    "sum_slov = {}\n",
    "num_word = []\n",
    "for y in queries:\n",
    "    num_word.append(len(queries[i].split()))\n",
    "    sum_slov.setdefault(num_word[i], 0)\n",
    "    sum_slov[num_word[i]] += 1\n",
    "    i += 1\n",
    "\n",
    "for key, value in sum_slov.items():\n",
    "    print(f'Поисковых запросов, содержащих {key} слов(а) - {value}, что составляет {round(value * 100 / len(queries), 2)} % от общего кол-ва слов')\n"
   ]
  },
  {
   "cell_type": "code",
   "execution_count": null,
   "id": "03c157f6-5044-4c26-ae51-fc4543c279c5",
   "metadata": {},
   "outputs": [],
   "source": [
    "Задание 3\n",
    "Дана переменная, в которой хранится информация о затратах и доходе рекламных кампаний по различным источникам. \n",
    "Необходимо дополнить исходную структуру показателем ROI, который рассчитаем по формуле: (revenue / cost - 1) * 100\n",
    "\n",
    "Пример работы программы:\n",
    "\n",
    "results = {\n",
    "    'vk': {'revenue': 103, 'cost': 98},\n",
    "    'yandex': {'revenue': 179, 'cost': 153},\n",
    "    'facebook': {'revenue': 103, 'cost': 110},\n",
    "    'adwords': {'revenue': 35, 'cost': 34},\n",
    "    'twitter': {'revenue': 11, 'cost': 24},\n",
    "}\n",
    "Результат:\n",
    "\n",
    "{'adwords': {'revenue': 35, 'cost': 34, 'ROI': 2.94},\n",
    " 'facebook': {'revenue': 103, 'cost': 110, 'ROI': -6.36},\n",
    " 'twitter': {'revenue': 11, 'cost': 24, 'ROI': -54.17},\n",
    " 'vk': {'revenue': 103, 'cost': 98, 'ROI': 5.1},\n",
    " 'yandex': {'revenue': 179, 'cost': 153, 'ROI': 16.99}}\n"
   ]
  },
  {
   "cell_type": "code",
   "execution_count": 17,
   "id": "31a43a2d-f7bd-4076-82d2-a5fbd4524d51",
   "metadata": {},
   "outputs": [
    {
     "name": "stdout",
     "output_type": "stream",
     "text": [
      "{'vk': {'revenue': 103, 'cost': 98, 'ROI': 5.1}, 'yandex': {'revenue': 179, 'cost': 153, 'ROI': 16.99}, 'facebook': {'revenue': 103, 'cost': 110, 'ROI': -6.36}, 'adwords': {'revenue': 35, 'cost': 34, 'ROI': 2.94}, 'twitter': {'revenue': 11, 'cost': 24, 'ROI': -54.17}}\n"
     ]
    }
   ],
   "source": [
    "results = {\n",
    "    'vk': {'revenue': 103, 'cost': 98},\n",
    "    'yandex': {'revenue': 179, 'cost': 153},\n",
    "    'facebook': {'revenue': 103, 'cost': 110},\n",
    "    'adwords': {'revenue': 35, 'cost': 34},\n",
    "    'twitter': {'revenue': 11, 'cost': 24},\n",
    "}\n",
    "\n",
    "for key, value in results.items():\n",
    "    value ['ROI'] = round((value['revenue'] / value['cost'] - 1) * 100, 2)\n",
    "\n",
    "print(results)\n"
   ]
  },
  {
   "cell_type": "code",
   "execution_count": null,
   "id": "194933ac-dc5e-42b6-893d-aba0151d26b5",
   "metadata": {},
   "outputs": [],
   "source": [
    "Задание 4\n",
    "Дана переменная, в которой хранится статистика рекламных каналов по объемам продаж (пример структуры данных приведен ниже). \n",
    "Напишите программу, которая возвращает название канала с максимальным объемом продаж.\n",
    "\n",
    "Пример работы программы:\n",
    "\n",
    "stats = {'facebook': 55, 'yandex': 115, 'vk': 120, 'google': 99, 'email': 42, 'ok': 98}\n",
    "\n",
    "Результат: Максимальный объем продаж на рекламном канале: vk\n",
    "\n"
   ]
  },
  {
   "cell_type": "code",
   "execution_count": 58,
   "id": "34849c8c-fdd2-4e09-9389-afb9e59d3c31",
   "metadata": {},
   "outputs": [
    {
     "name": "stdout",
     "output_type": "stream",
     "text": [
      "Результат: Максимальный объем продаж на рекламном канале: vk\n",
      "Результат: Максимальный объем продаж на рекламном канале: google\n"
     ]
    }
   ],
   "source": [
    "stats = {'facebook': 55, 'yandex': 115, 'vk': 120, 'google': 120, 'email': 42, 'ok': 98}\n",
    "\n",
    "max_value = max(stats.values())\n",
    "# print(max_value)\n",
    "\n",
    "result = {print(f'Результат: Максимальный объем продаж на рекламном канале: {key}') for key, value in stats.items() if value == max_value}\n"
   ]
  },
  {
   "cell_type": "code",
   "execution_count": null,
   "id": "56b2e1d5-28f0-48f8-b93c-d759c76abd44",
   "metadata": {},
   "outputs": [],
   "source": [
    "Задание 5 (необязательно)\n",
    "Дан список произвольной длины. Необходимо написать код, который на основе исходного списка составит словарь такого уровня вложенности, какова длина исхондого списка.\n",
    "\n",
    "Примеры работы программы:\n",
    "\n",
    "my_list = ['2018-01-01', 'yandex', 'cpc', 100]\n",
    "Результат: {'2018-01-01': {'yandex': {'cpc': 100}}}\n",
    "\n",
    "my_list = ['a', 'b', 'c', 'd', 'e', 'f']\n",
    "Результат: {'a': {'b': {'c': {'d': {'e': 'f'}}}}}\n"
   ]
  },
  {
   "cell_type": "code",
   "execution_count": 129,
   "id": "75ce876a-ccad-49ca-b173-4926501b9613",
   "metadata": {},
   "outputs": [
    {
     "ename": "IndentationError",
     "evalue": "unexpected indent (123753799.py, line 8)",
     "output_type": "error",
     "traceback": [
      "\u001b[1;36m  Input \u001b[1;32mIn [129]\u001b[1;36m\u001b[0m\n\u001b[1;33m    key = el[i]\u001b[0m\n\u001b[1;37m    ^\u001b[0m\n\u001b[1;31mIndentationError\u001b[0m\u001b[1;31m:\u001b[0m unexpected indent\n"
     ]
    }
   ],
   "source": [
    "# Нужна подсказка,или решение с кратким объяснением, примерно понимаю как сделать, но не получается\n",
    "new_dict = {}\n",
    "my_list = ['a', 'b', 'c', 'd', 'e', 'f']\n",
    "i = 0\n",
    "y = 0\n",
    "key = el[0]\n",
    "for el in my_list:\n",
    "    key = el[i]\n",
    "    value = el[y]\n",
    "    i += 1\n",
    "    y += 1\n",
    "    new_dict[key] = value\n",
    "    \n",
    "print(new_dict)\n"
   ]
  },
  {
   "cell_type": "markdown",
   "id": "2c463f4f-36d0-40d9-9885-a4bdf0ec43db",
   "metadata": {},
   "source": [
    "Задание 6 (необязательно)\n",
    "Дана книга рецептов с информацией о том, сколько ингредиентов нужно для приготовления блюда в расчете на одну порцию (пример данных представлен ниже).\n",
    "Напишите программу, которая будет запрашивать у пользователя количество порций для приготовления этих блюд и отображать информацию о суммарном количестве требуемых ингредиентов в указанном виде.\n",
    "Внимание! Одинаковые ингридиенты с разными размерностями нужно считать раздельно!\n",
    "Пример работы программы:\n",
    "\n",
    "cook_book = {\n",
    "  'салат': [\n",
    "     {'ingridient_name': 'сыр', 'quantity': 50, 'measure': 'гр'},\n",
    "     {'ingridient_name': 'томаты', 'quantity': 2, 'measure': 'шт'},\n",
    "     {'ingridient_name': 'огурцы', 'quantity': 20, 'measure': 'гр'},\n",
    "     {'ingridient_name': 'маслины', 'quantity': 10, 'measure': 'гр'},\n",
    "     {'ingridient_name': 'оливковое масло', 'quantity': 20, 'measure': 'мл'},\n",
    "     {'ingridient_name': 'салат', 'quantity': 10, 'measure': 'гр'},\n",
    "     {'ingridient_name': 'перец', 'quantity': 20, 'measure': 'гр'}\n",
    "    ],\n",
    "  'пицца': [\n",
    "     {'ingridient_name': 'сыр', 'quantity': 20, 'measure': 'гр'},\n",
    "     {'ingridient_name': 'колбаса', 'quantity': 30, 'measure': 'гр'},\n",
    "     {'ingridient_name': 'бекон', 'quantity': 30, 'measure': 'гр'},\n",
    "     {'ingridient_name': 'оливки', 'quantity': 10, 'measure': 'гр'},\n",
    "     {'ingridient_name': 'томаты', 'quantity': 20, 'measure': 'гр'},\n",
    "     {'ingridient_name': 'тесто', 'quantity': 100, 'measure': 'гр'},   \n",
    "    ],\n",
    "  'лимонад': [\n",
    "     {'ingridient_name': 'лимон', 'quantity': 1, 'measure': 'шт'},\n",
    "     {'ingridient_name': 'вода', 'quantity': 200, 'measure': 'мл'},\n",
    "     {'ingridient_name': 'сахар', 'quantity': 10, 'measure': 'гр'},\n",
    "     {'ingridient_name': 'лайм', 'quantity': 20, 'measure': 'гр'},    \n",
    "    ]\n",
    "}\n",
    "\n",
    "Введите количество порций:  \n",
    "3\n",
    "Результат:\n",
    "\n",
    "Сыр: 210 гр  \n",
    "Томаты: 6 шт  \n",
    "Огурцы: 60 гр  \n",
    "Маслины: 30 гр  \n",
    "Оливковое масло: 60 мл  \n",
    "Салат: 30 гр  \n",
    "Перец: 60 гр  \n",
    "Колбаса: 90 гр  \n",
    "Бекон: 90 гр  \n",
    "Оливки: 30 гр  \n",
    "Томаты: 60 гр  \n",
    "Тесто: 300 гр  \n",
    "Лимон: 3 шт  \n",
    "Вода: 600 мл  \n",
    "Сахар: 30 гр  \n",
    "Лайм: 60 гр\n"
   ]
  },
  {
   "cell_type": "code",
   "execution_count": 36,
   "id": "d2864c12-b3d1-416a-8a43-18681f66b2e8",
   "metadata": {},
   "outputs": [],
   "source": [
    "cook_book = {\n",
    "  'салат': [\n",
    "     {'ingridient_name': 'сыр', 'quantity': 50, 'measure': 'гр'},\n",
    "     {'ingridient_name': 'томаты', 'quantity': 2, 'measure': 'шт'},\n",
    "     {'ingridient_name': 'огурцы', 'quantity': 20, 'measure': 'гр'},\n",
    "     {'ingridient_name': 'маслины', 'quantity': 10, 'measure': 'гр'},\n",
    "     {'ingridient_name': 'оливковое масло', 'quantity': 20, 'measure': 'мл'},\n",
    "     {'ingridient_name': 'салат', 'quantity': 10, 'measure': 'гр'},\n",
    "     {'ingridient_name': 'перец', 'quantity': 20, 'measure': 'гр'}\n",
    "    ],\n",
    "  'пицца': [\n",
    "     {'ingridient_name': 'сыр', 'quantity': 20, 'measure': 'гр'},\n",
    "     {'ingridient_name': 'колбаса', 'quantity': 30, 'measure': 'гр'},\n",
    "     {'ingridient_name': 'бекон', 'quantity': 30, 'measure': 'гр'},\n",
    "     {'ingridient_name': 'оливки', 'quantity': 10, 'measure': 'гр'},\n",
    "     {'ingridient_name': 'томаты', 'quantity': 20, 'measure': 'гр'},\n",
    "     {'ingridient_name': 'тесто', 'quantity': 100, 'measure': 'гр'},   \n",
    "    ],\n",
    "  'лимонад': [\n",
    "     {'ingridient_name': 'лимон', 'quantity': 1, 'measure': 'шт'},\n",
    "     {'ingridient_name': 'вода', 'quantity': 200, 'measure': 'мл'},\n",
    "     {'ingridient_name': 'сахар', 'quantity': 10, 'measure': 'гр'},\n",
    "     {'ingridient_name': 'лайм', 'quantity': 20, 'measure': 'гр'},    \n",
    "    ]\n",
    "}"
   ]
  },
  {
   "cell_type": "code",
   "execution_count": 110,
   "id": "deb9bc03-0acf-457b-8da0-a6180c8f2982",
   "metadata": {},
   "outputs": [
    {
     "name": "stdout",
     "output_type": "stream",
     "text": [
      "{'ingridient_name': 'сыр', 'quantity': 50, 'measure': 'гр'}\n",
      "{'ingridient_name': 'огурцы', 'quantity': 20, 'measure': 'гр'}\n",
      "{'ingridient_name': 'маслины', 'quantity': 10, 'measure': 'гр'}\n",
      "{'ingridient_name': 'салат', 'quantity': 10, 'measure': 'гр'}\n",
      "{'ingridient_name': 'перец', 'quantity': 20, 'measure': 'гр'}\n",
      "{'ingridient_name': 'сыр', 'quantity': 20, 'measure': 'гр'}\n",
      "{'ingridient_name': 'колбаса', 'quantity': 30, 'measure': 'гр'}\n",
      "{'ingridient_name': 'бекон', 'quantity': 30, 'measure': 'гр'}\n",
      "{'ingridient_name': 'оливки', 'quantity': 10, 'measure': 'гр'}\n",
      "{'ingridient_name': 'томаты', 'quantity': 20, 'measure': 'гр'}\n",
      "{'ingridient_name': 'тесто', 'quantity': 100, 'measure': 'гр'}\n",
      "{'ingridient_name': 'сахар', 'quantity': 10, 'measure': 'гр'}\n",
      "{'ingridient_name': 'лайм', 'quantity': 20, 'measure': 'гр'}\n"
     ]
    }
   ],
   "source": [
    "# Нужна подсказка,или решение с кратким объяснением, примерно понимаю как сделать, но не получается\n",
    "# не нашел как отсортировать по инградиентам и сложить о-во\n",
    "\n",
    "temp = 0\n",
    "for key, value in cook_book.items():\n",
    "   # print(f\"{[int(el['quantity']) for el in value]}\")\n",
    "    for el in value:\n",
    "        if el['measure'] == 'гр':\n",
    "            print(el)\n",
    "            \n",
    "            \n",
    "           "
   ]
  },
  {
   "cell_type": "markdown",
   "id": "fddbd099-048d-41e3-a40f-f4d761b892d6",
   "metadata": {},
   "source": [
    "ПРИМЕЧАНИЕ\n",
    "Домашнее задание сдается ссылкой Google Colab. Не сможем проверить или помочь, если вы пришлете:\n",
    "\n",
    "файлы;\n",
    "архивы;\n",
    "скриншоты кода.\n",
    "Все обсуждения и консультации по выполнению домашнего задания ведутся только на соответствующем канале в slack.\n",
    "\n",
    "Как правильно задавать вопросы аспирантам, преподавателям и коллегам\n",
    "Прежде чем задать вопрос, попробуйте найти ответ в интернете. Навык самостоятельного поиска информации — один из важнейших. Каждый практикующий специалист любого уровня делает это ежедневно.\n",
    "\n",
    "Сформулируйте вопрос по алгоритму:\n",
    "1) Что я делаю?\n",
    "2) Какого результата я ожидаю?\n",
    "3) Как фактический результат отличается от ожидаемого?\n",
    "4) Что я уже попробовал сделать, чтобы исправить проблему?\n",
    "\n",
    "По возможности прикрепите к вопросу скриншоты либо ссылки на код. Не выкладывайте все решение, оставляйте только проблемный и воспроизводимый участок кода."
   ]
  }
 ],
 "metadata": {
  "kernelspec": {
   "display_name": "Python 3 (ipykernel)",
   "language": "python",
   "name": "python3"
  },
  "language_info": {
   "codemirror_mode": {
    "name": "ipython",
    "version": 3
   },
   "file_extension": ".py",
   "mimetype": "text/x-python",
   "name": "python",
   "nbconvert_exporter": "python",
   "pygments_lexer": "ipython3",
   "version": "3.9.12"
  }
 },
 "nbformat": 4,
 "nbformat_minor": 5
}
