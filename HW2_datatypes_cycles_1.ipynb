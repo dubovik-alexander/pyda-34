{
 "cells": [
  {
   "cell_type": "markdown",
   "id": "deceebb0",
   "metadata": {},
   "source": [
    "## Домашнее задание к лекции \"Введение в типы данных и циклы. Часть 1\"\n",
    "### Задание 1\n",
    "Дана переменная, в которой хранится слово из латинских букв. Напишите код, который выводит на экран:\n",
    "\n",
    "среднюю букву, если число букв в слове нечетное;\n",
    "две средних буквы, если число букв четное.\n",
    "Примеры работы программы:\n",
    "\n",
    "word = 'test'\n",
    "Результат:\n",
    "es\n",
    "\n",
    "word = 'testing'\n",
    "Результат:\n",
    "t\n",
    "\n"
   ]
  },
  {
   "cell_type": "code",
   "execution_count": null,
   "id": "38bcc0f3",
   "metadata": {},
   "outputs": [],
   "source": [
    "text = str(input(\"word = \"))\n",
    "if len(text) % 2 == 0:\n",
    "    print(\"Результат: \", text[int(len(text) / 2) - 1: int(len(text) / 2) + 1])\n",
    "else:\n",
    "    print(\"Результат: \", text[int(len(text) / 2)])\n"
   ]
  },
  {
   "cell_type": "markdown",
   "id": "94a080bc",
   "metadata": {},
   "source": [
    "### Задание 2\n",
    "Напишите программу, которая последовательно запрашивает у пользователя числа (по одному за раз) и после первого нуля выводит сумму всех ранее введенных чисел.\n",
    "\n",
    "Примеры работы программы:\n",
    "\n",
    "Введите число:  \n",
    "1\n",
    "\n",
    "Введите число:  \n",
    "4\n",
    "\n",
    "Введите число:  \n",
    "6\n",
    "\n",
    "Введите число:  \n",
    "0\n",
    "Результат:\n",
    "11\n",
    "\n",
    "Введите число:  \n",
    "0\n",
    "Результат:\n",
    "0"
   ]
  },
  {
   "cell_type": "code",
   "execution_count": 9,
   "id": "f51ea21c",
   "metadata": {
    "scrolled": false
   },
   "outputs": [
    {
     "name": "stdout",
     "output_type": "stream",
     "text": [
      "Введите число: \n",
      "123456\n",
      "Введите число: \n",
      "2\n",
      "Введите число: \n",
      "6\n",
      "Введите число: \n",
      "0\n",
      "Результат: 123464 "
     ]
    }
   ],
   "source": [
    "res = 0\n",
    "i = int(input(\"Введите число: \\n\"))\n",
    "while i != 0:\n",
    "    res += i\n",
    "    i = int(input(\"Введите число: \\n\"))\n",
    "print(\"Результат:\", res)\n"
   ]
  },
  {
   "cell_type": "markdown",
   "id": "73e28580",
   "metadata": {},
   "source": [
    "### Задание 3\n",
    "Мы делаем MVP dating-сервиса, и у нас есть список парней и девушек.\n",
    "Выдвигаем гипотезу: лучшие рекомендации мы получим, если просто отсортируем имена по алфавиту и познакомим \n",
    "людей с одинаковыми индексами после сортировки! Но мы не будем никого знакомить, если кто-то может \n",
    "остаться без пары:\n",
    "\n",
    "Примеры работы программы:\n",
    "\n",
    "boys = ['Peter', 'Alex', 'John', 'Arthur', 'Richard']\n",
    "girls = ['Kate', 'Liza', 'Kira', 'Emma', 'Trisha']\n",
    "Результат:\n",
    "\n",
    "Идеальные пары:  \n",
    "Alex и Emma  \n",
    "Arthur и Kate  \n",
    "John и Kira  \n",
    "Peter и Liza  \n",
    "Richard и Trisha\n",
    "boys = ['Peter', 'Alex', 'John', 'Arthur', 'Richard', 'Michael']\n",
    "girls = ['Kate', 'Liza', 'Kira', 'Emma', 'Trisha']\n",
    "Результат:\n",
    "Внимание, кто-то может остаться без пары!"
   ]
  },
  {
   "cell_type": "code",
   "execution_count": 2,
   "id": "6afd7504",
   "metadata": {},
   "outputs": [
    {
     "name": "stdout",
     "output_type": "stream",
     "text": [
      "Идеальные пары: \n",
      "\n",
      "Alex и Emma\n",
      "Arthur и Kate\n",
      "John и Kira\n",
      "Peter и Liza\n",
      "Richard и Trisha\n"
     ]
    }
   ],
   "source": [
    "boys = ['Peter', 'Alex', 'John', 'Arthur', 'Richard']\n",
    "girls = ['Kate', 'Liza', 'Kira', 'Emma', 'Trisha']\n",
    "if len(boys) == len(girls):\n",
    "    boys.sort()\n",
    "    girls.sort()\n",
    "    print(\"Идеальные пары: \\n\")\n",
    "    ideal_couples = list(zip(boys, girls))\n",
    "    for boys_name, girls_name in ideal_couples:\n",
    "        print(f\"{boys_name} и {girls_name}\")\n",
    "else:\n",
    "    print(\"Внимание, кто-то может остаться без пары!\")"
   ]
  },
  {
   "cell_type": "code",
   "execution_count": 3,
   "id": "f7a1e430",
   "metadata": {},
   "outputs": [
    {
     "name": "stdout",
     "output_type": "stream",
     "text": [
      "Внимание, кто-то может остаться без пары!\n"
     ]
    }
   ],
   "source": [
    "boys = ['Peter', 'Alex', 'John', 'Arthur', 'Richard', 'Michael']\n",
    "girls = ['Kate', 'Liza', 'Kira', 'Emma', 'Trisha']\n",
    "if len(boys) == len(girls):\n",
    "    boys.sort()\n",
    "    girls.sort()\n",
    "    print(\"Идеальные пары: \\n\")\n",
    "    ideal_couples = list(zip(boys, girls))\n",
    "    for boys_name, girls_name in ideal_couples:\n",
    "        print(f\"{boys_name} и {girls_name}\")\n",
    "else:\n",
    "    print(\"Внимание, кто-то может остаться без пары!\")"
   ]
  },
  {
   "cell_type": "markdown",
   "id": "88a4f005",
   "metadata": {},
   "source": [
    "### Задание 4\n",
    "У нас есть список, содержащий информацию о среднедневной температуре в Фаренгейтах за произвольный период по странам (структура данных в примере). Необходимо написать код, который рассчитает среднюю температуру за период в Цельсиях(!) для каждой страны.\n",
    "\n",
    "Пример работы программы:\n",
    "\n",
    "countries_temperature = [\n",
    "    ['Thailand', [75.2, 77, 78.8, 73.4, 68, 75.2, 77]],\n",
    "    ['Germany', [57.2, 55.4, 59, 59, 53.6]],\n",
    "    ['Russia', [35.6, 37.4, 39.2, 41, 42.8, 39.2, 35.6]],\n",
    "    ['Poland', [50, 50, 53.6, 57.2, 55.4, 55.4]]\n",
    "]\n",
    "Результат:\n",
    "\n",
    "Средняя температура в странах:\n",
    "Thailand  -  23.9 С\n",
    "Germany  -  13.8 С\n",
    "Russia  -  3.7 С\n",
    "Poland  -  12.0 С"
   ]
  },
  {
   "cell_type": "code",
   "execution_count": 208,
   "id": "cc146f88",
   "metadata": {},
   "outputs": [
    {
     "name": "stdout",
     "output_type": "stream",
     "text": [
      "['Thailand', [75.2, 77, 78.8, 73.4, 68, 75.2, 77]]\n",
      "['Germany', [57.2, 55.4, 59, 59, 53.6]]\n",
      "['Russia', [35.6, 37.4, 39.2, 41, 42.8, 39.2, 35.6]]\n",
      "['Poland', [50, 50, 53.6, 57.2, 55.4, 55.4]]\n",
      "Средняя температура в странах: Thailand - 23.9C Germany - 13.8C Russia - 3.7C Poland - 12.0C\n"
     ]
    }
   ],
   "source": [
    "countries_temperature = [\n",
    "    ['Thailand', [75.2, 77, 78.8, 73.4, 68, 75.2, 77]],\n",
    "    ['Germany', [57.2, 55.4, 59, 59, 53.6]],\n",
    "    ['Russia', [35.6, 37.4, 39.2, 41, 42.8, 39.2, 35.6]],\n",
    "    ['Poland', [50, 50, 53.6, 57.2, 55.4, 55.4]]\n",
    "                        ]\n",
    "temp = []\n",
    "y = 0\n",
    "for el in countries_temperature:\n",
    "    temp.append([str(countries_temperature[y][0]) + ' - ' +\n",
    "                str(round((sum(countries_temperature[y][1]) /\n",
    "                    len(countries_temperature[y][1]) - 32) * 5/9, 1)) + 'C'])\n",
    "    y += 1\n",
    "    \n",
    "print('Средняя температура в странах:',\n",
    "      (str(sum(temp, [])).replace(\"[\", \"\")).replace(\"]\", \"\")\n",
    "      .replace(\"'\", \"\").replace(\",\", \"\"))\n"
   ]
  },
  {
   "cell_type": "markdown",
   "id": "9de517ee",
   "metadata": {},
   "source": [
    "### Задание 5 (необязательное)\n",
    "Дан поток логов по количеству просмотренных страниц для каждого пользователя. Вам необходимо написать алгоритм, \n",
    "который считает среднее значение просмотров на пользователя. Т. е. надо посчитать отношение суммы всех просмотров \n",
    "к количеству уникальных пользователей.\n",
    "\n",
    "Примеры работы программы:\n",
    "\n",
    "stream = [\n",
    "    '2018-01-01,user1,3',\n",
    "    '2018-01-07,user1,4',\n",
    "    '2018-03-29,user1,1',\n",
    "    '2018-04-04,user1,13',\n",
    "    '2018-01-05,user2,7',\n",
    "    '2018-06-14,user3,4',\n",
    "    '2018-07-02,user3,10',\n",
    "    '2018-03-21,user4,19',\n",
    "    '2018-03-22,user4,4',\n",
    "    '2018-04-22,user4,8',\n",
    "    '2018-05-03,user4,9',\n",
    "    '2018-05-11,user4,11',\n",
    "]\n",
    "Результат:\n",
    "Среднее количество просмотров на уникального пользователя: 23.25\n",
    "\n",
    "stream = [\n",
    "    '2018-01-01,user100,150',\n",
    "    '2018-01-07,user99,205',\n",
    "    '2018-03-29,user1001,81'\n",
    "]\n",
    "Результат:\n",
    "Среднее количество просмотров на уникального пользователя: 145.33"
   ]
  },
  {
   "cell_type": "code",
   "execution_count": 322,
   "id": "3cbf7dfe",
   "metadata": {},
   "outputs": [
    {
     "name": "stdout",
     "output_type": "stream",
     "text": [
      "Результат: \n",
      "Среднее количество просмотров на уникального пользователя:  145.33\n"
     ]
    }
   ],
   "source": [
    "stream = [\n",
    "    '2018-01-01,user100,150',\n",
    "    '2018-01-07,user99,205',\n",
    "    '2018-03-29,user1001,81'\n",
    "]\n",
    "users = []\n",
    "temp = []\n",
    "total_sum = 0\n",
    "y = 0\n",
    "for el in stream:\n",
    "    temp.append(stream[y].split(','))\n",
    "    total_sum += int(temp[y][2])\n",
    "    users.append(temp[y][1])\n",
    "    y += 1\n",
    "\n",
    "# print(temp)\n",
    "# print (total_sum)\n",
    "# print(users)\n",
    "unique_users = list(set(users))\n",
    "print(f'Результат: \\nСреднее количество просмотров на уникального пользователя: {total_sum / len(unique_users): .2f}')\n"
   ]
  },
  {
   "cell_type": "markdown",
   "id": "67b7ebfc",
   "metadata": {},
   "source": [
    "### Задание 6 (необязательное)\n",
    "Необходимо у пользователя запрашивать набор чисел разделенных пробелом. В результате в отсортированном порядке \n",
    "должны выводиться числа, которые повторяются в вводе более одного раза.\n",
    "\n",
    "Примеры работы программы:\n",
    "\n",
    "Введите числа:\n",
    "4 8 0 3 4 2 0 3\n",
    "Результат:\n",
    "0 3 4\n",
    "\n",
    "Введите числа:\n",
    "1 1 2 2 3 3\n",
    "Результат:\n",
    "1 2 3\n",
    "\n",
    "Введите числа:\n",
    "10 15 15 103 200 200 200 1 1 1 1 1 2 2 2\n",
    "Результат:\n",
    "1 2 15 200\n",
    "\n"
   ]
  },
  {
   "cell_type": "code",
   "execution_count": 317,
   "id": "620ba236",
   "metadata": {},
   "outputs": [
    {
     "name": "stdout",
     "output_type": "stream",
     "text": [
      "[0, 3, 4]\n"
     ]
    }
   ],
   "source": [
    "##entered_list = input(\"Введите числа, разделенные пробелом: \").split()\n",
    "##print(entered_list)\n",
    "\n",
    "\n",
    "\n"
   ]
  },
  {
   "cell_type": "markdown",
   "id": "18b315dd",
   "metadata": {},
   "source": [
    "##Данную Задачу подсмотрел, случайно в Вебинаре, и не смог придумать еще один вариант.\n",
    "##Прошу не рассматривать как мое решение!!! \n",
    "##Оставил тут для себя!!!\n",
    "\n",
    "\n",
    "numbers = '4 8 0 3 4 2 0 3'\n",
    "splitted_numbers = numbers.split()\n",
    "\n",
    "res = []\n",
    "for el in splitted_numbers:\n",
    "    if splitted_numbers.count(el) > 1 and int(el) not in res:\n",
    "        res.append(int(el))\n",
    "print(sorted(res))\n"
   ]
  }
 ],
 "metadata": {
  "kernelspec": {
   "display_name": "Python 3 (ipykernel)",
   "language": "python",
   "name": "python3"
  },
  "language_info": {
   "codemirror_mode": {
    "name": "ipython",
    "version": 3
   },
   "file_extension": ".py",
   "mimetype": "text/x-python",
   "name": "python",
   "nbconvert_exporter": "python",
   "pygments_lexer": "ipython3",
   "version": "3.9.12"
  }
 },
 "nbformat": 4,
 "nbformat_minor": 5
}
